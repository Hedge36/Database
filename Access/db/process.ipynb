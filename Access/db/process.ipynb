{
 "cells": [
  {
   "cell_type": "code",
   "execution_count": 1,
   "metadata": {},
   "outputs": [],
   "source": [
    "import pandas as pd "
   ]
  },
  {
   "cell_type": "code",
   "execution_count": 2,
   "metadata": {},
   "outputs": [
    {
     "data": {
      "text/html": [
       "<div>\n",
       "<style scoped>\n",
       "    .dataframe tbody tr th:only-of-type {\n",
       "        vertical-align: middle;\n",
       "    }\n",
       "\n",
       "    .dataframe tbody tr th {\n",
       "        vertical-align: top;\n",
       "    }\n",
       "\n",
       "    .dataframe thead th {\n",
       "        text-align: right;\n",
       "    }\n",
       "</style>\n",
       "<table border=\"1\" class=\"dataframe\">\n",
       "  <thead>\n",
       "    <tr style=\"text-align: right;\">\n",
       "      <th></th>\n",
       "      <th>中文名</th>\n",
       "      <th>作者</th>\n",
       "      <th>出版社</th>\n",
       "      <th>出版时间</th>\n",
       "      <th>单价</th>\n",
       "      <th>封面</th>\n",
       "      <th>评分</th>\n",
       "      <th>评价数量</th>\n",
       "      <th>一句话概括</th>\n",
       "    </tr>\n",
       "  </thead>\n",
       "  <tbody>\n",
       "    <tr>\n",
       "      <th>0</th>\n",
       "      <td>红楼梦</td>\n",
       "      <td>[清]曹雪芹著</td>\n",
       "      <td>人民文学出版社</td>\n",
       "      <td>1996-12</td>\n",
       "      <td>59.70元</td>\n",
       "      <td>https://img1.doubanio.com/view/subject/s/publi...</td>\n",
       "      <td>9.6</td>\n",
       "      <td>356091人评价</td>\n",
       "      <td>都云作者痴，谁解其中味？</td>\n",
       "    </tr>\n",
       "    <tr>\n",
       "      <th>1</th>\n",
       "      <td>活着</td>\n",
       "      <td>余华</td>\n",
       "      <td>作家出版社</td>\n",
       "      <td>2012-8-1</td>\n",
       "      <td>20.00元</td>\n",
       "      <td>https://img9.doubanio.com/view/subject/s/publi...</td>\n",
       "      <td>9.4</td>\n",
       "      <td>649232人评价</td>\n",
       "      <td>生的苦难与伟大</td>\n",
       "    </tr>\n",
       "    <tr>\n",
       "      <th>2</th>\n",
       "      <td>百年孤独</td>\n",
       "      <td>[哥伦比亚]加西亚·马尔克斯, 范晔(译)</td>\n",
       "      <td>南海出版公司</td>\n",
       "      <td>2011-6</td>\n",
       "      <td>39.50元</td>\n",
       "      <td>https://img3.doubanio.com/view/subject/s/publi...</td>\n",
       "      <td>9.3</td>\n",
       "      <td>358979人评价</td>\n",
       "      <td>魔幻现实主义文学代表作</td>\n",
       "    </tr>\n",
       "    <tr>\n",
       "      <th>3</th>\n",
       "      <td>1984</td>\n",
       "      <td>[英]乔治·奥威尔, 刘绍铭(译)</td>\n",
       "      <td>北京十月文艺出版社</td>\n",
       "      <td>2010-4-1</td>\n",
       "      <td>28.00元</td>\n",
       "      <td>https://img1.doubanio.com/view/subject/s/publi...</td>\n",
       "      <td>9.4</td>\n",
       "      <td>199904人评价</td>\n",
       "      <td>栗树荫下，我出卖你，你出卖我</td>\n",
       "    </tr>\n",
       "    <tr>\n",
       "      <th>4</th>\n",
       "      <td>飘</td>\n",
       "      <td>[美国]玛格丽特·米切尔, 李美华(译)</td>\n",
       "      <td>译林出版社</td>\n",
       "      <td>2000-9</td>\n",
       "      <td>40.00元</td>\n",
       "      <td>https://img1.doubanio.com/view/subject/s/publi...</td>\n",
       "      <td>9.3</td>\n",
       "      <td>187077人评价</td>\n",
       "      <td>革命时期的爱情，随风而逝</td>\n",
       "    </tr>\n",
       "  </tbody>\n",
       "</table>\n",
       "</div>"
      ],
      "text/plain": [
       "    中文名                     作者        出版社      出版时间      单价  \\\n",
       "0   红楼梦                [清]曹雪芹著    人民文学出版社   1996-12  59.70元   \n",
       "1    活着                     余华      作家出版社  2012-8-1  20.00元   \n",
       "2  百年孤独  [哥伦比亚]加西亚·马尔克斯, 范晔(译)     南海出版公司    2011-6  39.50元   \n",
       "3  1984      [英]乔治·奥威尔, 刘绍铭(译)  北京十月文艺出版社  2010-4-1  28.00元   \n",
       "4     飘   [美国]玛格丽特·米切尔, 李美华(译)      译林出版社    2000-9  40.00元   \n",
       "\n",
       "                                                  封面   评分       评价数量  \\\n",
       "0  https://img1.doubanio.com/view/subject/s/publi...  9.6  356091人评价   \n",
       "1  https://img9.doubanio.com/view/subject/s/publi...  9.4  649232人评价   \n",
       "2  https://img3.doubanio.com/view/subject/s/publi...  9.3  358979人评价   \n",
       "3  https://img1.doubanio.com/view/subject/s/publi...  9.4  199904人评价   \n",
       "4  https://img1.doubanio.com/view/subject/s/publi...  9.3  187077人评价   \n",
       "\n",
       "            一句话概括  \n",
       "0    都云作者痴，谁解其中味？  \n",
       "1         生的苦难与伟大  \n",
       "2     魔幻现实主义文学代表作  \n",
       "3  栗树荫下，我出卖你，你出卖我  \n",
       "4    革命时期的爱情，随风而逝  "
      ]
     },
     "execution_count": 2,
     "metadata": {},
     "output_type": "execute_result"
    }
   ],
   "source": [
    "df = pd.read_excel(\"./豆瓣图书TOP250.xlsx\")\n",
    "df.head()"
   ]
  },
  {
   "cell_type": "code",
   "execution_count": 35,
   "metadata": {},
   "outputs": [],
   "source": [
    "def substr(string, num):\n",
    "    return string[:num]\n",
    "\n",
    "def save2(string):\n",
    "    if len(string)<=6:\n",
    "        string = substr(string, -1)\n",
    "        return f\"{float(string):.2f}\"\n",
    "    else:\n",
    "        return string"
   ]
  },
  {
   "cell_type": "code",
   "execution_count": 39,
   "metadata": {},
   "outputs": [],
   "source": [
    "data = df.copy() \n",
    "data.iloc[:, 3] = time\n",
    "data.iloc[:, 7] = num\n",
    "data.iloc[:, 4] = price\n",
    "data.index += 1\n",
    "data.to_excel(\"Douban.xlsx\")\n"
   ]
  },
  {
   "cell_type": "code",
   "execution_count": null,
   "metadata": {},
   "outputs": [],
   "source": [
    "time = df.iloc[:, 3]\n",
    "time = time.apply(lambda x:substr(x, 4))\n",
    "num = df.iloc[:, 7]\n",
    "num = num.apply(lambda x: substr(x, -3))\n",
    "price = df.iloc[:, 4]\n",
    "price = price.apply(save2)\n",
    "price.name = \"单价(元)\"\n"
   ]
  },
  {
   "cell_type": "code",
   "execution_count": 37,
   "metadata": {},
   "outputs": [
    {
     "data": {
      "text/plain": [
       "0    59.70\n",
       "1    20.00\n",
       "2    39.50\n",
       "3    28.00\n",
       "4    40.00\n",
       "Name: 单价(元), dtype: object"
      ]
     },
     "execution_count": 37,
     "metadata": {},
     "output_type": "execute_result"
    }
   ],
   "source": [
    "\n",
    "price.head()"
   ]
  },
  {
   "cell_type": "code",
   "execution_count": 30,
   "metadata": {},
   "outputs": [
    {
     "data": {
      "text/plain": [
       "'12.30'"
      ]
     },
     "execution_count": 30,
     "metadata": {},
     "output_type": "execute_result"
    }
   ],
   "source": [
    "\"%.2f\"%(12.3)"
   ]
  },
  {
   "cell_type": "code",
   "execution_count": null,
   "metadata": {},
   "outputs": [],
   "source": [
    "float()"
   ]
  }
 ],
 "metadata": {
  "interpreter": {
   "hash": "ed30ea7ea1cbcc5d6cdd427c80ab89fed01beb16106f90368e1dac31164d7c67"
  },
  "kernelspec": {
   "display_name": "Python 3.8.10 64-bit",
   "language": "python",
   "name": "python3"
  },
  "language_info": {
   "codemirror_mode": {
    "name": "ipython",
    "version": 3
   },
   "file_extension": ".py",
   "mimetype": "text/x-python",
   "name": "python",
   "nbconvert_exporter": "python",
   "pygments_lexer": "ipython3",
   "version": "3.8.10"
  },
  "orig_nbformat": 4
 },
 "nbformat": 4,
 "nbformat_minor": 2
}
